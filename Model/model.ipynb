{
 "cells": [
  {
   "cell_type": "code",
   "execution_count": 3,
   "metadata": {},
   "outputs": [],
   "source": [
    "\n",
    "import numpy as np\n",
    "import pandas as pd\n",
    "import os\n",
    "\n",
    "from sklearn import metrics\n",
    "from sklearn.model_selection import train_test_split, StratifiedShuffleSplit\n",
    "from sklearn.metrics import (\n",
    "    accuracy_score, classification_report, recall_score, confusion_matrix,\n",
    "    roc_auc_score, precision_score, f1_score, roc_curve, auc\n",
    ")\n",
    "from sklearn.preprocessing import OrdinalEncoder\n",
    "\n",
    "from catboost import CatBoostClassifier, Pool"
   ]
  },
  {
   "cell_type": "code",
   "execution_count": 4,
   "metadata": {},
   "outputs": [],
   "source": [
    "\n",
    "data_path = \"/Users/lakshaybhadana/Desktop/Projects/Customer_churm/WA_Fn-UseC_-Telco-Customer-Churn.csv\"\n",
    "df = pd.read_csv(data_path)\n",
    "\n",
    "# Convert TotalCharges to numeric, filling NaN values\n",
    "df['TotalCharges'] = pd.to_numeric(df['TotalCharges'], errors='coerce')\n",
    "df['TotalCharges'].fillna(df['tenure'] * df['MonthlyCharges'], inplace=True)\n",
    "\n",
    "# Convert SeniorCitizen to object\n",
    "df['SeniorCitizen'] = df['SeniorCitizen'].astype(object)\n",
    "\n",
    "# Replace 'No phone service' and 'No internet service' with 'No' for certain columns\n",
    "df['MultipleLines'] = df['MultipleLines'].replace('No phone service', 'No')\n",
    "columns_to_replace = ['OnlineSecurity', 'OnlineBackup', 'DeviceProtection', 'TechSupport', 'StreamingTV', 'StreamingMovies']\n",
    "for column in columns_to_replace:\n",
    "    df[column] = df[column].replace('No internet service', 'No')\n",
    "\n",
    "# Convert 'Churn' categorical variable to numeric\n",
    "df['Churn'] = df['Churn'].replace({'No': 0, 'Yes': 1})\n",
    "\n"
   ]
  },
  {
   "cell_type": "code",
   "execution_count": 5,
   "metadata": {},
   "outputs": [],
   "source": [
    "\n",
    "# Create the StratifiedShuffleSplit object\n",
    "strat_split = StratifiedShuffleSplit(n_splits=1, test_size=0.2, random_state=64)\n",
    "\n",
    "train_index, test_index = next(strat_split.split(df, df[\"Churn\"]))\n",
    "\n",
    "# Create train and test sets\n",
    "strat_train_set = df.loc[train_index]\n",
    "strat_test_set = df.loc[test_index]\n",
    "\n",
    "X_train = strat_train_set.drop(\"Churn\", axis=1)\n",
    "y_train = strat_train_set[\"Churn\"].copy()\n",
    "\n",
    "X_test = strat_test_set.drop(\"Churn\", axis=1)\n",
    "y_test = strat_test_set[\"Churn\"].copy()"
   ]
  },
  {
   "cell_type": "code",
   "execution_count": 8,
   "metadata": {},
   "outputs": [],
   "source": [
    "\n",
    "# Identify categorical columns\n",
    "categorical_columns = df.select_dtypes(include=['object']).columns.tolist()\n",
    "\n",
    "# Initialize and fit CatBoostClassifier\n",
    "cat_model = CatBoostClassifier(verbose=False, random_state=0, scale_pos_weight=3)\n",
    "cat_model.fit(X_train, y_train, cat_features=categorical_columns, eval_set=(X_test, y_test))\n",
    "\n",
    "# Predict on test set\n",
    "y_pred = cat_model.predict(X_test)\n",
    "\n",
    "# Calculate evaluation metrics\n",
    "accuracy, recall, roc_auc, precision = [round(metric(y_test, y_pred), 4) for metric in [accuracy_score, recall_score, roc_auc_score, precision_score]]\n",
    "\n",
    "# Create a DataFrame to store results\n",
    "model_names = ['CatBoost_Model']\n",
    "result = pd.DataFrame({'Accuracy': accuracy, 'Recall': recall, 'Roc_Auc': roc_auc, 'Precision': precision}, index=model_names)\n"
   ]
  },
  {
   "cell_type": "code",
   "execution_count": 9,
   "metadata": {},
   "outputs": [
    {
     "name": "stdout",
     "output_type": "stream",
     "text": [
      "                Accuracy  Recall  Roc_Auc  Precision\n",
      "CatBoost_Model    0.7885  0.8369    0.804     0.5691\n"
     ]
    }
   ],
   "source": [
    "# Print results\n",
    "print(result)\n"
   ]
  },
  {
   "cell_type": "code",
   "execution_count": 11,
   "metadata": {},
   "outputs": [],
   "source": [
    "# Save the model in the 'model' directory\n",
    "model_dir = \"/Users/lakshaybhadana/Desktop/Projects/Customer_churm\"\n",
    "if not os.path.exists(model_dir):\n",
    "    os.makedirs(model_dir)\n",
    "\n",
    "model_path = os.path.join(model_dir, \"catboost_model.cbm\")\n",
    "cat_model.save_model(model_path)"
   ]
  }
 ],
 "metadata": {
  "kernelspec": {
   "display_name": "base",
   "language": "python",
   "name": "python3"
  },
  "language_info": {
   "codemirror_mode": {
    "name": "ipython",
    "version": 3
   },
   "file_extension": ".py",
   "mimetype": "text/x-python",
   "name": "python",
   "nbconvert_exporter": "python",
   "pygments_lexer": "ipython3",
   "version": "3.10.9"
  }
 },
 "nbformat": 4,
 "nbformat_minor": 2
}
